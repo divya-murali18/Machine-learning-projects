{
 "cells": [
  {
   "cell_type": "code",
   "execution_count": 1,
   "metadata": {
    "colab": {},
    "colab_type": "code",
    "id": "REYPoTJ1Af7u"
   },
   "outputs": [],
   "source": [
    "import warnings\n",
    "warnings.filterwarnings(\"ignore\")\n",
    "from sklearn.datasets import load_boston\n",
    "from random import seed\n",
    "from random import randrange\n",
    "from csv import reader\n",
    "from math import sqrt\n",
    "from sklearn import preprocessing\n",
    "import pandas as pd\n",
    "import numpy as np\n",
    "import matplotlib.pyplot as plt\n",
    "from prettytable import PrettyTable\n",
    "from sklearn.linear_model import SGDRegressor\n",
    "from sklearn import preprocessing\n",
    "from sklearn.metrics import mean_squared_error"
   ]
  },
  {
   "cell_type": "code",
   "execution_count": 2,
   "metadata": {
    "colab": {},
    "colab_type": "code",
    "id": "NTQ2iH-kAwbo"
   },
   "outputs": [],
   "source": [
    "X = load_boston().data\n",
    "Y = load_boston().target"
   ]
  },
  {
   "cell_type": "code",
   "execution_count": 3,
   "metadata": {},
   "outputs": [],
   "source": [
    "from sklearn.model_selection  import train_test_split \n",
    "X_train, X_test, y_train, y_test=train_test_split(X, Y, test_size=0.4, random_state=23)\n"
   ]
  },
  {
   "cell_type": "code",
   "execution_count": 4,
   "metadata": {},
   "outputs": [
    {
     "data": {
      "text/html": [
       "<div>\n",
       "<style scoped>\n",
       "    .dataframe tbody tr th:only-of-type {\n",
       "        vertical-align: middle;\n",
       "    }\n",
       "\n",
       "    .dataframe tbody tr th {\n",
       "        vertical-align: top;\n",
       "    }\n",
       "\n",
       "    .dataframe thead th {\n",
       "        text-align: right;\n",
       "    }\n",
       "</style>\n",
       "<table border=\"1\" class=\"dataframe\">\n",
       "  <thead>\n",
       "    <tr style=\"text-align: right;\">\n",
       "      <th></th>\n",
       "      <th>0</th>\n",
       "      <th>1</th>\n",
       "      <th>2</th>\n",
       "      <th>3</th>\n",
       "      <th>4</th>\n",
       "      <th>5</th>\n",
       "      <th>6</th>\n",
       "      <th>7</th>\n",
       "      <th>8</th>\n",
       "      <th>9</th>\n",
       "      <th>10</th>\n",
       "      <th>11</th>\n",
       "      <th>12</th>\n",
       "      <th>price</th>\n",
       "    </tr>\n",
       "  </thead>\n",
       "  <tbody>\n",
       "    <tr>\n",
       "      <th>0</th>\n",
       "      <td>-0.408368</td>\n",
       "      <td>-0.511177</td>\n",
       "      <td>-0.867322</td>\n",
       "      <td>-0.30637</td>\n",
       "      <td>-0.322124</td>\n",
       "      <td>-0.376122</td>\n",
       "      <td>-1.158271</td>\n",
       "      <td>0.975013</td>\n",
       "      <td>-0.514591</td>\n",
       "      <td>-1.090186</td>\n",
       "      <td>0.797044</td>\n",
       "      <td>0.431450</td>\n",
       "      <td>-0.639886</td>\n",
       "      <td>21.1</td>\n",
       "    </tr>\n",
       "    <tr>\n",
       "      <th>1</th>\n",
       "      <td>-0.293865</td>\n",
       "      <td>-0.511177</td>\n",
       "      <td>-0.438618</td>\n",
       "      <td>-0.30637</td>\n",
       "      <td>-0.128143</td>\n",
       "      <td>-0.528845</td>\n",
       "      <td>-1.342010</td>\n",
       "      <td>0.273016</td>\n",
       "      <td>-0.629833</td>\n",
       "      <td>-0.595391</td>\n",
       "      <td>1.167024</td>\n",
       "      <td>0.326727</td>\n",
       "      <td>-0.840759</td>\n",
       "      <td>23.1</td>\n",
       "    </tr>\n",
       "    <tr>\n",
       "      <th>2</th>\n",
       "      <td>0.086377</td>\n",
       "      <td>-0.511177</td>\n",
       "      <td>1.008804</td>\n",
       "      <td>-0.30637</td>\n",
       "      <td>0.259819</td>\n",
       "      <td>-0.427030</td>\n",
       "      <td>0.961797</td>\n",
       "      <td>-0.651664</td>\n",
       "      <td>1.674989</td>\n",
       "      <td>1.544746</td>\n",
       "      <td>0.797044</td>\n",
       "      <td>-0.252221</td>\n",
       "      <td>1.229773</td>\n",
       "      <td>19.1</td>\n",
       "    </tr>\n",
       "    <tr>\n",
       "      <th>3</th>\n",
       "      <td>-0.352545</td>\n",
       "      <td>0.319537</td>\n",
       "      <td>-1.044617</td>\n",
       "      <td>-0.30637</td>\n",
       "      <td>0.791158</td>\n",
       "      <td>1.844337</td>\n",
       "      <td>0.781591</td>\n",
       "      <td>-0.840774</td>\n",
       "      <td>-0.514591</td>\n",
       "      <td>-0.851730</td>\n",
       "      <td>-2.532774</td>\n",
       "      <td>0.342565</td>\n",
       "      <td>-0.745239</td>\n",
       "      <td>43.1</td>\n",
       "    </tr>\n",
       "    <tr>\n",
       "      <th>4</th>\n",
       "      <td>-0.330906</td>\n",
       "      <td>-0.511177</td>\n",
       "      <td>-0.438618</td>\n",
       "      <td>-0.30637</td>\n",
       "      <td>-0.128143</td>\n",
       "      <td>-0.840278</td>\n",
       "      <td>0.078436</td>\n",
       "      <td>-0.058505</td>\n",
       "      <td>-0.629833</td>\n",
       "      <td>-0.595391</td>\n",
       "      <td>1.167024</td>\n",
       "      <td>0.369450</td>\n",
       "      <td>-0.180548</td>\n",
       "      <td>18.2</td>\n",
       "    </tr>\n",
       "  </tbody>\n",
       "</table>\n",
       "</div>"
      ],
      "text/plain": [
       "          0         1         2        3         4         5         6  \\\n",
       "0 -0.408368 -0.511177 -0.867322 -0.30637 -0.322124 -0.376122 -1.158271   \n",
       "1 -0.293865 -0.511177 -0.438618 -0.30637 -0.128143 -0.528845 -1.342010   \n",
       "2  0.086377 -0.511177  1.008804 -0.30637  0.259819 -0.427030  0.961797   \n",
       "3 -0.352545  0.319537 -1.044617 -0.30637  0.791158  1.844337  0.781591   \n",
       "4 -0.330906 -0.511177 -0.438618 -0.30637 -0.128143 -0.840278  0.078436   \n",
       "\n",
       "          7         8         9        10        11        12  price  \n",
       "0  0.975013 -0.514591 -1.090186  0.797044  0.431450 -0.639886   21.1  \n",
       "1  0.273016 -0.629833 -0.595391  1.167024  0.326727 -0.840759   23.1  \n",
       "2 -0.651664  1.674989  1.544746  0.797044 -0.252221  1.229773   19.1  \n",
       "3 -0.840774 -0.514591 -0.851730 -2.532774  0.342565 -0.745239   43.1  \n",
       "4 -0.058505 -0.629833 -0.595391  1.167024  0.369450 -0.180548   18.2  "
      ]
     },
     "execution_count": 4,
     "metadata": {},
     "output_type": "execute_result"
    }
   ],
   "source": [
    "scaler = preprocessing.StandardScaler() \n",
    "X_train=scaler.fit_transform(X_train)\n",
    "X_test= scaler.transform(X_test) \n",
    "df_train=pd.DataFrame(X_train) \n",
    "df_train['price']=y_train \n",
    "df_train.head()\n"
   ]
  },
  {
   "cell_type": "code",
   "execution_count": 5,
   "metadata": {},
   "outputs": [
    {
     "name": "stderr",
     "output_type": "stream",
     "text": [
      "C:\\Program Files\\Anaconda3\\lib\\site-packages\\sklearn\\linear_model\\stochastic_gradient.py:117: DeprecationWarning: n_iter parameter is deprecated in 0.19 and will be removed in 0.21. Use max_iter and tol instead.\n",
      "  DeprecationWarning)\n"
     ]
    }
   ],
   "source": [
    "# Reference: https://scikitlearn.org/stable/modules/generated/sklearn.linear_model.SGDRegressor.html\n",
    "clf = SGDRegressor(n_iter=500) \n",
    "clf.fit(X_train, y_train) \n",
    "y_pred_SGD= clf.predict(X_test) \n",
    "MSE_SGD=mean_squared_error(y_test,y_pred_SGD)"
   ]
  },
  {
   "cell_type": "code",
   "execution_count": 6,
   "metadata": {},
   "outputs": [
    {
     "name": "stdout",
     "output_type": "stream",
     "text": [
      "22.27118806243705\n"
     ]
    }
   ],
   "source": [
    "print(MSE_SGD)\n"
   ]
  },
  {
   "cell_type": "code",
   "execution_count": 7,
   "metadata": {},
   "outputs": [
    {
     "data": {
      "image/png": "[encoded data removed]",
      "text/plain": [
       "<Figure size 432x288 with 1 Axes>"
      ]
     },
     "metadata": {},
     "output_type": "display_data"
    }
   ],
   "source": [
    "plt.scatter(y_test,y_pred_SGD) \n",
    "plt.xlabel('Actual price') \n",
    "plt.ylabel('Predictd price') \n",
    "plt.title('Actual price vs Predicted price') \n",
    "plt.show()\n"
   ]
  },
  {
   "cell_type": "code",
   "execution_count": 96,
   "metadata": {},
   "outputs": [],
   "source": [
    "#Reference:https://towardsdatascience.com/step-by-step-tutorial-on-linear-regression-with-stochast ic-gradient-descent-1d35b088a843\n",
    "W,B, Learn_rate,Num_iterations,k=np.zeros(shape=(1,13)),0,0.01,173,30\n",
    "new_arr=[]\n",
    "train_arr=[]\n",
    "while Num_iterations>=0:   \n",
    "    data_train=df_train.sample(k)  \n",
    "    x=np.array(data_train.drop('price',axis=1))  \n",
    "    y=np.array(data_train['price']) \n",
    "    for i in range(k): \n",
    "        w, b , diff_dw , diff_db = W,B, np.zeros(shape=(1,13)) ,0  \n",
    "        diff_dw += (-2) * x[i]*(y[i]- np.dot(w,x[i])-b)      \n",
    "        diff_db += (-2) *(y[i]- np.dot(w,x[i])-b) \n",
    "        #print(np.asscalar(y[i]- np.dot(w,x[i])-b)**2)\n",
    "    \n",
    "        W= (w - Learn_rate * (diff_dw/k)) \n",
    "        B= (b - Learn_rate * (diff_db/k))\n",
    "   \n",
    "    Num_iterations=Num_iterations-1 \n",
    "    Y_pred=[]\n",
    "    Y_pred_tr=[]\n",
    "    for i in range(len(X_train)):  \n",
    "        Y_obtained= np.dot(W,X_train[i]) + B   \n",
    "        Y_pred_tr.append(np.asscalar(Y_obtained)) \n",
    "    train_arr.append(mean_squared_error(y_train,Y_pred_tr))\n",
    "    for i in range(len(X_test)):  \n",
    "        Y_obtained= np.dot(W,X_test[i]) + B   \n",
    "        Y_pred.append(np.asscalar(Y_obtained)) \n",
    "    new_arr.append(mean_squared_error(y_test,Y_pred))\n",
    "   \n",
    "    "
   ]
  },
  {
   "cell_type": "code",
   "execution_count": 98,
   "metadata": {},
   "outputs": [
    {
     "name": "stdout",
     "output_type": "stream",
     "text": [
      "For test data\n",
      "22.735176621358093 173\n",
      "For training data\n",
      "24.978915193814643 171\n"
     ]
    }
   ],
   "source": [
    "print(\"For test data\")\n",
    "print(min(new_arr),new_arr.index(min(new_arr)))\n",
    "#hence epoch size is updated with 173,initially it was 200.\n",
    "print(\"For training data\")\n",
    "print(min(train_arr),train_arr.index(min(train_arr)))"
   ]
  },
  {
   "cell_type": "code",
   "execution_count": 97,
   "metadata": {},
   "outputs": [
    {
     "data": {
      "text/plain": [
       "[<matplotlib.lines.Line2D at 0x1e2c0c89940>]"
      ]
     },
     "execution_count": 97,
     "metadata": {},
     "output_type": "execute_result"
    },
    {
     "data": {
      "image/png": "[encoded data removed]",
      "text/plain": [
       "<Figure size 432x288 with 1 Axes>"
      ]
     },
     "metadata": {},
     "output_type": "display_data"
    }
   ],
   "source": [
    "list_x=[i for i in range(174)]\n",
    "plt.plot(list_x,new_arr)\n",
    "plt.plot(list_x,train_arr)"
   ]
  },
  {
   "cell_type": "code",
   "execution_count": 99,
   "metadata": {},
   "outputs": [
    {
     "name": "stdout",
     "output_type": "stream",
     "text": [
      "22.735176621358093\n"
     ]
    }
   ],
   "source": [
    "print(mean_squared_error(y_test,Y_pred))\n"
   ]
  },
  {
   "cell_type": "code",
   "execution_count": 100,
   "metadata": {},
   "outputs": [
    {
     "data": {
      "image/png": "[encoded data removed]",
      "text/plain": [
       "<Figure size 432x288 with 1 Axes>"
      ]
     },
     "metadata": {},
     "output_type": "display_data"
    }
   ],
   "source": [
    "#Scatter plot for actual and predicted \n",
    "plt.scatter(y_test,Y_pred) \n",
    "plt.xlabel('Actual price') \n",
    "plt.ylabel('Predictd price') \n",
    "plt.title('Actual price vs Predicted price')\n",
    "plt.show()\n"
   ]
  },
  {
   "cell_type": "code",
   "execution_count": 101,
   "metadata": {},
   "outputs": [
    {
     "name": "stdout",
     "output_type": "stream",
     "text": [
      "+-----------------------------------+---------------------------+\n",
      "| Manually calculated Weight Vector | SGD sklearn Weight Vector |\n",
      "+-----------------------------------+---------------------------+\n",
      "|        -0.42996505934110996       |    -0.7577865138928271    |\n",
      "|         0.4465675043280928        |     0.8509914570134665    |\n",
      "|        -0.2747822015742403        |    -0.08511769411093083   |\n",
      "|         0.9314553812476808        |     0.8857032395524493    |\n",
      "|        -0.5938328569488442        |     -2.06718840594972     |\n",
      "|         3.235441006816779         |     2.9328270384807076    |\n",
      "|        -0.4763443229645417        |    -0.0888855354852579    |\n",
      "|         -1.756146680882337        |    -2.9865501111212027    |\n",
      "|         0.5610781860247892        |     2.240785762437997     |\n",
      "|        -0.15284025087854258       |    -1.1482172836750988    |\n",
      "|        -1.6516322379002695        |    -1.8671733436788085    |\n",
      "|         1.312104487915114         |     1.5232360046497986    |\n",
      "|        -3.0169478466774056        |    -3.8779287793853374    |\n",
      "+-----------------------------------+---------------------------+\n"
     ]
    }
   ],
   "source": [
    "#coef_ is to find weights assigned in classifier, obtained from documentation of SGD classifier \n",
    "from prettytable import PrettyTable   \n",
    "x = PrettyTable()\n",
    "x.field_names=['Manually calculated Weight Vector','SGD sklearn Weight Vector'] \n",
    "weight_sgd=clf.coef_ \n",
    "for i in range(13):  \n",
    "    x.add_row([W[0][i],weight_sgd[i]]) \n",
    "print(x)\n"
   ]
  },
  {
   "cell_type": "code",
   "execution_count": null,
   "metadata": {},
   "outputs": [],
   "source": []
  },
  {
   "cell_type": "code",
   "execution_count": null,
   "metadata": {},
   "outputs": [],
   "source": []
  }
 ],
 "metadata": {
  "colab": {
   "name": "Untitled3.ipynb",
   "provenance": [],
   "version": "0.3.2"
  },
  "kernelspec": {
   "display_name": "Python 3",
   "language": "python",
   "name": "python3"
  },
  "language_info": {
   "codemirror_mode": {
    "name": "ipython",
    "version": 3
   },
   "file_extension": ".py",
   "mimetype": "text/x-python",
   "name": "python",
   "nbconvert_exporter": "python",
   "pygments_lexer": "ipython3",
   "version": "3.6.4"
  }
 },
 "nbformat": 4,
 "nbformat_minor": 1
}
